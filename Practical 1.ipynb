{
 "cells": [
  {
   "cell_type": "markdown",
   "id": "a1e59e57",
   "metadata": {},
   "source": [
    "Practical 1: Program based on DataType."
   ]
  },
  {
   "cell_type": "markdown",
   "id": "1f7c0ff0",
   "metadata": {},
   "source": [
    "1. Program Numeric Data Type"
   ]
  },
  {
   "cell_type": "code",
   "execution_count": 4,
   "id": "16bc6776",
   "metadata": {},
   "outputs": [
    {
     "name": "stdout",
     "output_type": "stream",
     "text": [
      "The type of variable having value 100 is <class 'int'>\n",
      "The type of variable having value 10.3432 is <class 'float'>\n",
      "The type of variable having value (100+6j) is <class 'complex'>\n"
     ]
    }
   ],
   "source": [
    "#create a variable with integer value.\n",
    "a_antima=100\n",
    "print(\"The type of variable having value\", a_antima, \"is\" , type(a_antima))\n",
    "\n",
    "#create a variable with float value.\n",
    "b_antima=10.3432\n",
    "print(\"The type of variable having value\", b_antima, \"is\" , type(b_antima))\n",
    "\n",
    "#create a variable with complex value.\n",
    "c_antima=100+6j\n",
    "print(\"The type of variable having value\", c_antima, \"is\" , type(c_antima))\n"
   ]
  },
  {
   "cell_type": "markdown",
   "id": "e4ba9dd4",
   "metadata": {},
   "source": [
    "2. Python String Datatype."
   ]
  },
  {
   "cell_type": "code",
   "execution_count": 5,
   "id": "5a4532d6",
   "metadata": {},
   "outputs": [
    {
     "name": "stdout",
     "output_type": "stream",
     "text": [
      "string in a double quote\n",
      "\n",
      "string in a single quote\n",
      "\n",
      "string in a double quote concatenated with string in a single quote\n",
      "\n",
      "string in a double quote concated with string in a single quote\n"
     ]
    }
   ],
   "source": [
    "a_antima = \"string in a double quote\"\n",
    "b_antima= 'string in a single quote'\n",
    "print(a_antima)\n",
    "print()\n",
    "print(b_antima)\n",
    "print()\n",
    "\n",
    "#using ',' to concatenate the two or several strings\n",
    "print(a_antima,\"concatenated with\",b_antima)\n",
    "\n",
    "print()\n",
    "#using '+' to concate the two or several strings\n",
    "print(a_antima+\" concated with \"+b_antima)\n"
   ]
  },
  {
   "cell_type": "markdown",
   "id": "a278a2a0",
   "metadata": {},
   "source": [
    "3. Python List Data Type"
   ]
  },
  {
   "cell_type": "code",
   "execution_count": 7,
   "id": "88f6fe21",
   "metadata": {},
   "outputs": [
    {
     "name": "stdout",
     "output_type": "stream",
     "text": [
      "[1, 2, 3, 4, 5, 6]\n",
      "\n",
      "['antima', 'Prajakta', 'rohini', 'deepali']\n",
      "\n",
      "['hey', 'you', 1, 2, 3, 'go']\n",
      "\n",
      "1\n"
     ]
    }
   ],
   "source": [
    "#list of having only integers\n",
    "a_antima = [1,2,3,4,5,6]\n",
    "print(a_antima)\n",
    "print()\n",
    "\n",
    "#list of having only strings\n",
    "b_antima=[\"antima\",\"Prajakta\",\"rohini\",\"deepali\"]\n",
    "print(b_antima)\n",
    "print()\n",
    "\n",
    "#list of having both integers and strings\n",
    "c_antima= [\"hey\",\"you\",1,2,3,\"go\"]\n",
    "print(c_antima)\n",
    "print()\n",
    "\n",
    "#index are 0 based.this will print a single character\n",
    "print(c_antima[2]) #this will print \"you\" in list c\n"
   ]
  },
  {
   "cell_type": "markdown",
   "id": "a1b371d7",
   "metadata": {},
   "source": [
    "4. Python Tuple"
   ]
  },
  {
   "cell_type": "code",
   "execution_count": 8,
   "id": "e95d1f50",
   "metadata": {},
   "outputs": [
    {
     "name": "stdout",
     "output_type": "stream",
     "text": [
      "(1, 2, 3, 4)\n",
      "\n",
      "('hello', 1, 2, 3, 'go')\n",
      "\n",
      "go\n"
     ]
    }
   ],
   "source": [
    "#tuple having only integer type of data\n",
    "a_antima=(1,2,3,4)\n",
    "print(a_antima) #prints the whole tuple\n",
    "print()\n",
    "\n",
    "#tuple having multiple type of data\n",
    "b_antima=(\"hello\" , 1,2,3,\"go\")\n",
    "print(b_antima) #prints the whole tuple\n",
    "print()\n",
    "\n",
    "#index of tuples are also 0 based\n",
    "print(b_antima[4]) #this prints a single element in a tuple, in the case \"go\"\n"
   ]
  },
  {
   "cell_type": "markdown",
   "id": "8e273d7f",
   "metadata": {},
   "source": [
    "5. Python Dictionary"
   ]
  },
  {
   "cell_type": "code",
   "execution_count": 9,
   "id": "1de23b75",
   "metadata": {},
   "outputs": [
    {
     "name": "stdout",
     "output_type": "stream",
     "text": [
      "{1: 'first name', 2: 'last name', 'age': 33}\n",
      "\n",
      "first name\n",
      "\n",
      "last name\n",
      "\n",
      "33\n"
     ]
    }
   ],
   "source": [
    "#a sample dictionary variable\n",
    "\n",
    "a_antima={1:\"first name\",2:\"last name\", \"age\":33}\n",
    "print(a_antima)\n",
    "print()\n",
    "\n",
    "#print value having key=1\n",
    "print(a_antima[1])\n",
    "print()\n",
    "\n",
    "#print value having key=2\n",
    "print(a_antima[2])\n",
    "print()\n",
    "\n",
    "#print value having key=\"age\"\n",
    "print(a_antima[\"age\"])\n"
   ]
  },
  {
   "cell_type": "markdown",
   "id": "c047505f",
   "metadata": {},
   "source": [
    "6. Python Set"
   ]
  },
  {
   "cell_type": "code",
   "execution_count": 10,
   "id": "02a17374",
   "metadata": {},
   "outputs": [
    {
     "name": "stdout",
     "output_type": "stream",
     "text": [
      "{1, 3, 4, 5, 6}\n",
      "\n",
      "a_antima =  {1, 3, 4, 5, 6}\n",
      "\n",
      "the data type of a_antima is : <class 'set'>\n"
     ]
    }
   ],
   "source": [
    "a_antima= {5,6,3,4,1}\n",
    "print(a_antima)\n",
    "print()\n",
    "\n",
    "#printing set variable\n",
    "print(\"a_antima = \", a_antima)\n",
    "print()\n",
    "\n",
    "#data type of variable a\n",
    "print(\"the data type of a_antima is :\" ,type(a_antima))\n"
   ]
  },
  {
   "cell_type": "code",
   "execution_count": null,
   "id": "5a498ef2",
   "metadata": {},
   "outputs": [],
   "source": [
    "We can perform set operation like union, intersection on two sets. Sets have unique values. They eliminate duplicates."
   ]
  },
  {
   "cell_type": "code",
   "execution_count": 11,
   "id": "168f67d8",
   "metadata": {},
   "outputs": [
    {
     "name": "stdout",
     "output_type": "stream",
     "text": [
      "{1, 2, 3, 4, 5}\n"
     ]
    }
   ],
   "source": [
    "a_antima = {1,2,3,5,4,5,3,1}\n",
    "print(a_antima)\n"
   ]
  },
  {
   "cell_type": "code",
   "execution_count": null,
   "id": "f47e2e24",
   "metadata": {},
   "outputs": [],
   "source": []
  }
 ],
 "metadata": {
  "kernelspec": {
   "display_name": "Python 3 (ipykernel)",
   "language": "python",
   "name": "python3"
  },
  "language_info": {
   "codemirror_mode": {
    "name": "ipython",
    "version": 3
   },
   "file_extension": ".py",
   "mimetype": "text/x-python",
   "name": "python",
   "nbconvert_exporter": "python",
   "pygments_lexer": "ipython3",
   "version": "3.9.12"
  }
 },
 "nbformat": 4,
 "nbformat_minor": 5
}
